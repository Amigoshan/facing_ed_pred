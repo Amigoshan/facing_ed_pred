{
 "cells": [
  {
   "cell_type": "code",
   "execution_count": 1,
   "metadata": {},
   "outputs": [],
   "source": [
    "import cv2\n",
    "import codecs\n",
    "\n",
    "def get_int(b):\n",
    "    return int(codecs.encode(b, 'hex'), 16)\n",
    "\n",
    "\n",
    "def parse_byte(b):\n",
    "    if isinstance(b, str):\n",
    "        return ord(b)\n",
    "    return b\n",
    "\n",
    "def read_label_file(path):\n",
    "    with open(path, 'rb') as f:\n",
    "        data = f.read()\n",
    "        assert get_int(data[:4]) == 2049\n",
    "        length = get_int(data[4:8])\n",
    "        labels = [parse_byte(b) for b in data[8:]]\n",
    "        assert len(labels) == length\n",
    "        return labels\n",
    "\n",
    "\n",
    "def read_image_file(path):\n",
    "    with open(path, 'rb') as f:\n",
    "        data = f.read()\n",
    "        assert get_int(data[:4]) == 2051\n",
    "        length = get_int(data[4:8])\n",
    "        num_rows = get_int(data[8:12])\n",
    "        num_cols = get_int(data[12:16])\n",
    "        images = []\n",
    "        idx = 16\n",
    "        for l in range(length):\n",
    "            img = []\n",
    "            images.append(img)\n",
    "            for r in range(num_rows):\n",
    "                row = []\n",
    "                img.append(row)\n",
    "                for c in range(num_cols):\n",
    "                    row.append(parse_byte(data[idx]))\n",
    "                    idx += 1\n",
    "        assert len(images) == length\n",
    "        return images\n",
    "\n",
    "    \n",
    "def showdigit(img, time):\n",
    "    cv2.imshow('digit', img)\n",
    "    cv2.waitKey(time)\n",
    "    cv2.destroyWindow('digit')  \n",
    "    \n",
    "# def plotdigit(img):\n",
    "#     plt.plot()"
   ]
  },
  {
   "cell_type": "code",
   "execution_count": 2,
   "metadata": {},
   "outputs": [],
   "source": [
    "from os.path import join\n",
    "\n",
    "datadir = 'data'\n",
    "train_data_file = 'train-images-idx3-ubyte'\n",
    "train_label_file = 'train-labels-idx1-ubyte'\n",
    "test_data_file = 't10k-images-idx3-ubyte'\n",
    "test_label_file = 't10k-labels-idx1-ubyte'\n",
    "\n",
    "train_data = read_image_file(join(datadir, train_data_file))\n",
    "train_label = read_label_file(join(datadir, train_label_file))"
   ]
  },
  {
   "cell_type": "code",
   "execution_count": 51,
   "metadata": {},
   "outputs": [
    {
     "name": "stdout",
     "output_type": "stream",
     "text": [
      "<type 'list'> 60000 <type 'list'> 28\n",
      "<type 'list'> 60000 <type 'int'>\n",
      "5\n"
     ]
    }
   ],
   "source": [
    "import numpy as np\n",
    "\n",
    "print type(train_data), len(train_data), type(train_data[0]), len(train_data[0])\n",
    "print type(train_label), len(train_label), type(train_label[0])\n",
    "\n",
    "img = np.array(train_data[0],dtype=np.uint8)\n",
    "print train_label[0]\n"
   ]
  },
  {
   "cell_type": "code",
   "execution_count": 67,
   "metadata": {},
   "outputs": [],
   "source": [
    "def warpimg(img, warpvec):\n",
    "    # warpvec: [a, b, c, d, e, f, c1, c2]\n",
    "    # [ 1+a,    b,      e*10  \n",
    "    #   c,      1+d,    f*10\n",
    "    #   c1/100, c2/100, 1]\n",
    "    M = np.array([[1+warpvec[0], warpvec[1], warpvec[4]*10.0],\n",
    "                  [warpvec[2], 1+warpvec[3], warpvec[5]*10.0],\n",
    "                  [warpvec[6]/100.0, warpvec[7]/100.0,    1]])\n",
    "    dst = cv2.warpPerspective(img,M,(28,28))\n",
    "    return dst"
   ]
  },
  {
   "cell_type": "code",
   "execution_count": 86,
   "metadata": {},
   "outputs": [
    {
     "name": "stdout",
     "output_type": "stream",
     "text": [
      "[[ 1.    0.    0.  ]\n",
      " [ 0.    1.    0.  ]\n",
      " [ 0.01  0.    1.  ]]\n",
      "uint8 (28, 28) uint8 (28, 28)\n"
     ]
    },
    {
     "data": {
      "image/png": "[encoded data removed]",
      "text/plain": [
       "<matplotlib.figure.Figure at 0x7f4524455910>"
      ]
     },
     "metadata": {},
     "output_type": "display_data"
    }
   ],
   "source": [
    "import numpy as np\n",
    "import matplotlib.pyplot as plt\n",
    "\n",
    "np.set_printoptions(precision=5, suppress=True)\n",
    "\n",
    "# img = np.zeros((28,28),dtype=np.uint8)\n",
    "# img[8:20,8:20] = 255\n",
    "M = np.array([[1, 0, -0],\n",
    "              [-0, 1,    0],\n",
    "              [0.01, 0.0,    1]])\n",
    "print M\n",
    "\n",
    "dst = cv2.warpPerspective(img,M,(28,28))\n",
    "dst = warpimg(img, [0.2,-0.5,0.08,0.2,-0.2,-0.3,0.8,0])\n",
    "print dst.dtype,dst.shape, img.dtype, img.shape\n",
    "# print dst\n",
    "ax1 = plt.subplot(121)\n",
    "ax1.imshow(dst, cmap='gray')\n",
    "ax2 = plt.subplot(122)\n",
    "ax2.imshow(img, cmap='gray')\n",
    "plt.show()\n",
    "# showdigit(dst,0)"
   ]
  },
  {
   "cell_type": "code",
   "execution_count": 5,
   "metadata": {},
   "outputs": [],
   "source": [
    "from torchvision import datasets, transforms\n",
    "\n",
    "\n",
    "kwargs = {'num_workers': 1, 'pin_memory': True} \n",
    "\n",
    "mnistData = datasets.MNIST('../data', train=True, download=True,\n",
    "                   transform=transforms.Compose([\n",
    "                       transforms.ToTensor(),\n",
    "#                        transforms.Normalize((0.1307,), (0.3081,))\n",
    "                   ]))\n",
    "mnistTestData = datasets.MNIST('../data', train=False, transform=transforms.Compose([\n",
    "                       transforms.ToTensor(),\n",
    "#                        transforms.Normalize((0.1307,), (0.3081,))\n",
    "                   ]))"
   ]
  },
  {
   "cell_type": "code",
   "execution_count": 10,
   "metadata": {},
   "outputs": [
    {
     "name": "stdout",
     "output_type": "stream",
     "text": [
      "60000\n",
      "10000\n",
      "<class 'torchvision.datasets.mnist.MNIST'> 60000\n",
      "<class 'torch.ByteTensor'>\n",
      "(1, 28, 28)\n",
      "<class 'torch.ByteTensor'>\n",
      "<class 'torch.FloatTensor'><class 'torch.ByteTensor'>\n",
      " <type 'int'>\n"
     ]
    }
   ],
   "source": [
    "print len(mnistData)\n",
    "print len(mnistTestData)\n",
    "# print mnistData[0]\n",
    "print type(mnistData), len(mnistData)\n",
    "print mnistData[0][0].numpy().shape\n",
    "print type(mnistData[0][0]), type(mnistData[0][1])"
   ]
  }
 ],
 "metadata": {
  "kernelspec": {
   "display_name": "Python 2",
   "language": "python",
   "name": "python2"
  },
  "language_info": {
   "codemirror_mode": {
    "name": "ipython",
    "version": 2
   },
   "file_extension": ".py",
   "mimetype": "text/x-python",
   "name": "python",
   "nbconvert_exporter": "python",
   "pygments_lexer": "ipython2",
   "version": "2.7.12"
  }
 },
 "nbformat": 4,
 "nbformat_minor": 2
}
